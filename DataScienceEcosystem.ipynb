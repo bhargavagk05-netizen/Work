{
 "cells": [
  {
   "cell_type": "markdown",
   "id": "369428ef",
   "metadata": {},
   "source": [
    "### Data Science Tools and EcoSystem"
   ]
  },
  {
   "cell_type": "markdown",
   "id": "072c080a",
   "metadata": {},
   "source": [
    "In This notbook.Data Science Tools and Ecosystem are Summerized"
   ]
  },
  {
   "cell_type": "markdown",
   "id": "ef11b4c5",
   "metadata": {},
   "source": [
    "Data science Language\n",
    "\n",
    "1. Python\n",
    "2. java\n",
    "3. c++\n",
    "4. R\n",
    "5. sql"
   ]
  },
  {
   "cell_type": "markdown",
   "id": "48b4d609",
   "metadata": {},
   "source": [
    "Data Science Libraries\n",
    "\n",
    "1. Tenserflow\n",
    "2. numpy\n",
    "3. scipy\n",
    "4. pandas\n",
    "5. Matplotlib\n",
    "6. keras\n",
    "7. SciKit-learn\n",
    "8. pytorch  etc,..."
   ]
  },
  {
   "cell_type": "markdown",
   "id": "d5ebdace",
   "metadata": {
    "vscode": {
     "languageId": "plaintext"
    }
   },
   "source": [
    "|data science|\n",
    "|---|\n",
    "|SAS|\n",
    "|Apache Haddop|\n",
    "|TenserFlow|"
   ]
  },
  {
   "cell_type": "markdown",
   "id": "ad1d291a",
   "metadata": {},
   "source": [
    "### Below are few examples of evaluating arithmetic expression in python"
   ]
  },
  {
   "cell_type": "code",
   "execution_count": 1,
   "id": "ff1bd9a6",
   "metadata": {},
   "outputs": [
    {
     "data": {
      "text/plain": [
       "17"
      ]
     },
     "execution_count": 1,
     "metadata": {},
     "output_type": "execute_result"
    }
   ],
   "source": [
    "#This is a common arithmetic example to multiply and then add integers\n",
    "(3*4)+5"
   ]
  },
  {
   "cell_type": "code",
   "execution_count": 2,
   "id": "80cdf644",
   "metadata": {},
   "outputs": [
    {
     "data": {
      "text/plain": [
       "3.3333333333333335"
      ]
     },
     "execution_count": 2,
     "metadata": {},
     "output_type": "execute_result"
    }
   ],
   "source": [
    "#this will convert 200 minutes to hours by dividing by 60\n",
    "200/60"
   ]
  },
  {
   "cell_type": "markdown",
   "id": "aa6cb01f",
   "metadata": {},
   "source": [
    "__Objective__\n",
    "* List popular languages for data science\n",
    "* List Popular Libraries for data science\n",
    "* List od wll known data science tools\n",
    "* how to provide commets in tha cell"
   ]
  },
  {
   "cell_type": "markdown",
   "id": "c6b1bf8c",
   "metadata": {},
   "source": [
    "## Author\n",
    "Bhargava GK"
   ]
  }
 ],
 "metadata": {
  "kernelspec": {
   "display_name": "Python 3",
   "language": "python",
   "name": "python3"
  },
  "language_info": {
   "codemirror_mode": {
    "name": "ipython",
    "version": 3
   },
   "file_extension": ".py",
   "mimetype": "text/x-python",
   "name": "python",
   "nbconvert_exporter": "python",
   "pygments_lexer": "ipython3",
   "version": "3.11.9"
  }
 },
 "nbformat": 4,
 "nbformat_minor": 5
}
