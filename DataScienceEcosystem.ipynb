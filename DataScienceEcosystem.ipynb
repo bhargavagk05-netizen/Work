{
 "cells": [
  {
   "cell_type": "markdown",
   "id": "369428ef",
   "metadata": {},
   "source": [
    "BHARGAVA GK"
   ]
  },
  {
   "cell_type": "markdown",
   "id": "072c080a",
   "metadata": {},
   "source": [
    "Markdown cell"
   ]
  },
  {
   "cell_type": "code",
   "execution_count": null,
   "id": "ef11b4c5",
   "metadata": {},
   "outputs": [],
   "source": []
  }
 ],
 "metadata": {
  "kernelspec": {
   "display_name": "Python 3",
   "language": "python",
   "name": "python3"
  },
  "language_info": {
   "name": "python",
   "version": "3.11.9"
  }
 },
 "nbformat": 4,
 "nbformat_minor": 5
}
